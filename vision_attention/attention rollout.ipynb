{
  "nbformat": 4,
  "nbformat_minor": 0,
  "metadata": {
    "colab": {
      "provenance": [],
      "gpuType": "T4"
    },
    "kernelspec": {
      "name": "python3",
      "display_name": "Python 3"
    },
    "language_info": {
      "name": "python"
    },
    "accelerator": "GPU"
  },
  "cells": [
    {
      "cell_type": "code",
      "source": [
        "%pip install einops"
      ],
      "metadata": {
        "colab": {
          "base_uri": "https://localhost:8080/"
        },
        "id": "Rak9EvhkvIlp",
        "outputId": "8625aef0-84cc-4ce4-fceb-bcf62abba2c7"
      },
      "execution_count": 1,
      "outputs": [
        {
          "output_type": "stream",
          "name": "stdout",
          "text": [
            "Collecting einops\n",
            "  Downloading einops-0.7.0-py3-none-any.whl (44 kB)\n",
            "\u001b[2K     \u001b[90m━━━━━━━━━━━━━━━━━━━━━━━━━━━━━━━━━━━━━━━━\u001b[0m \u001b[32m44.6/44.6 kB\u001b[0m \u001b[31m553.5 kB/s\u001b[0m eta \u001b[36m0:00:00\u001b[0m\n",
            "\u001b[?25hInstalling collected packages: einops\n",
            "Successfully installed einops-0.7.0\n"
          ]
        }
      ]
    },
    {
      "cell_type": "code",
      "execution_count": 3,
      "metadata": {
        "colab": {
          "base_uri": "https://localhost:8080/"
        },
        "id": "tTzCVtytvAWk",
        "outputId": "0ba979ae-54bb-4e28-aba1-2c93ad8b286e"
      },
      "outputs": [
        {
          "output_type": "stream",
          "name": "stdout",
          "text": [
            "Epoch: 0, Batch: 0, Loss: 3.437751\n",
            "Epoch: 0, Batch: 100, Loss: 0.491584\n",
            "Epoch: 0, Batch: 200, Loss: 0.485637\n",
            "Epoch: 0, Batch: 300, Loss: 0.373338\n",
            "Epoch: 0, Batch: 400, Loss: 0.291904\n",
            "Epoch: 0, Batch: 500, Loss: 0.261928\n",
            "Epoch: 0, Batch: 600, Loss: 0.197681\n",
            "Epoch: 0, Batch: 700, Loss: 0.327771\n",
            "Epoch: 0, Batch: 800, Loss: 0.097286\n",
            "Epoch: 0, Batch: 900, Loss: 0.121929\n",
            "Epoch: 0, Accuracy: 94.079994\n",
            "Epoch: 1, Batch: 0, Loss: 0.390047\n",
            "Epoch: 1, Batch: 100, Loss: 0.150043\n",
            "Epoch: 1, Batch: 200, Loss: 0.291350\n",
            "Epoch: 1, Batch: 300, Loss: 0.281186\n",
            "Epoch: 1, Batch: 400, Loss: 0.103496\n",
            "Epoch: 1, Batch: 500, Loss: 0.178756\n",
            "Epoch: 1, Batch: 600, Loss: 0.180868\n",
            "Epoch: 1, Batch: 700, Loss: 0.188920\n",
            "Epoch: 1, Batch: 800, Loss: 0.225493\n",
            "Epoch: 1, Batch: 900, Loss: 0.051070\n",
            "Epoch: 1, Accuracy: 95.279999\n",
            "Epoch: 2, Batch: 0, Loss: 0.156373\n",
            "Epoch: 2, Batch: 100, Loss: 0.065254\n",
            "Epoch: 2, Batch: 200, Loss: 0.173717\n",
            "Epoch: 2, Batch: 300, Loss: 0.173150\n",
            "Epoch: 2, Batch: 400, Loss: 0.388910\n",
            "Epoch: 2, Batch: 500, Loss: 0.133287\n",
            "Epoch: 2, Batch: 600, Loss: 0.172556\n",
            "Epoch: 2, Batch: 700, Loss: 0.073762\n",
            "Epoch: 2, Batch: 800, Loss: 0.122073\n",
            "Epoch: 2, Batch: 900, Loss: 0.224570\n",
            "Epoch: 2, Accuracy: 95.729996\n",
            "Epoch: 3, Batch: 0, Loss: 0.056969\n",
            "Epoch: 3, Batch: 100, Loss: 0.080421\n",
            "Epoch: 3, Batch: 200, Loss: 0.022899\n",
            "Epoch: 3, Batch: 300, Loss: 0.159777\n",
            "Epoch: 3, Batch: 400, Loss: 0.342246\n",
            "Epoch: 3, Batch: 500, Loss: 0.163826\n",
            "Epoch: 3, Batch: 600, Loss: 0.260974\n",
            "Epoch: 3, Batch: 700, Loss: 0.075358\n",
            "Epoch: 3, Batch: 800, Loss: 0.078757\n",
            "Epoch: 3, Batch: 900, Loss: 0.076066\n",
            "Epoch: 3, Accuracy: 95.919998\n",
            "Epoch: 4, Batch: 0, Loss: 0.185279\n",
            "Epoch: 4, Batch: 100, Loss: 0.092999\n",
            "Epoch: 4, Batch: 200, Loss: 0.039145\n",
            "Epoch: 4, Batch: 300, Loss: 0.076971\n",
            "Epoch: 4, Batch: 400, Loss: 0.059935\n",
            "Epoch: 4, Batch: 500, Loss: 0.224854\n",
            "Epoch: 4, Batch: 600, Loss: 0.138086\n",
            "Epoch: 4, Batch: 700, Loss: 0.082034\n",
            "Epoch: 4, Batch: 800, Loss: 0.027898\n",
            "Epoch: 4, Batch: 900, Loss: 0.094997\n",
            "Epoch: 4, Accuracy: 96.029999\n"
          ]
        }
      ],
      "source": [
        "import torch\n",
        "import torch.nn as nn\n",
        "import torch.nn.functional as F\n",
        "\n",
        "from torchvision import datasets, transforms\n",
        "from einops import rearrange, repeat\n",
        "import math\n",
        "\n",
        "\n",
        "train_dataset = datasets.MNIST(root='./data/', train=True, transform=transforms.ToTensor(), download=True)\n",
        "test_dataset = datasets.MNIST(root='./data/', train=False, transform=transforms.ToTensor(), download=True)\n",
        "\n",
        "class mnistDataset(torch.utils.data.Dataset):\n",
        "    def __init__(self, dataset):\n",
        "        self.dataset = dataset\n",
        "\n",
        "    def __getitem__(self, index):\n",
        "        img, label = self.dataset[index]\n",
        "        return img, label\n",
        "\n",
        "    def __len__(self):\n",
        "        return len(self.dataset)\n",
        "\n",
        "train_loader = torch.utils.data.DataLoader(dataset=mnistDataset(train_dataset), batch_size=64, shuffle=True)\n",
        "test_loader = torch.utils.data.DataLoader(dataset=mnistDataset(test_dataset), batch_size=64, shuffle=True)\n",
        "\n",
        "class PatchEmbedding(nn.Module):\n",
        "    def __init__(self, patch_size=7, in_chans=1, embed_dim=49):\n",
        "        super().__init__()\n",
        "        self.patch_size = patch_size\n",
        "        self.in_chans = in_chans\n",
        "        self.embed_dim = embed_dim\n",
        "        self.proj = nn.Conv2d(in_chans, embed_dim, kernel_size=patch_size, stride=patch_size)\n",
        "        # b, embedding, n_patches_h, n_patches_w\n",
        "\n",
        "    def forward(self, x):\n",
        "        x = self.proj(x)\n",
        "        x = rearrange(x, 'b e n1 n2 -> b (n1 n2) e') # b, long, embedding\n",
        "        return x\n",
        "\n",
        "\n",
        "class MultiHeadAttention(nn.Module):\n",
        "\n",
        "    def __init__(self, n_embd, n_heads):\n",
        "        super().__init__()\n",
        "\n",
        "        # key, query, value projections\n",
        "        self.key = nn.Linear(n_embd, n_embd * n_heads)\n",
        "        self.query = nn.Linear(n_embd, n_embd * n_heads)\n",
        "        self.value = nn.Linear(n_embd, n_embd * n_heads)\n",
        "        self.n_heads = n_heads\n",
        "\n",
        "        # output projection\n",
        "        self.proj = nn.Linear(n_embd * n_heads, n_embd)\n",
        "\n",
        "        # for attention visualization\n",
        "        self.att_maps = []\n",
        "\n",
        "    def forward(self, x):\n",
        "        # B, L, F = x.size() # batch, length, features\n",
        "\n",
        "        k = rearrange(self.key(x), 'b l (h f) -> b h l f', h=self.n_heads) # (B, L, F) -> (B, H, L, F/H)\n",
        "        q = rearrange(self.query(x), 'b l (h f) -> b h l f', h=self.n_heads) # (B, L, F) -> (B, H, L, F/H)\n",
        "        v = rearrange(self.value(x), 'b l (h f) -> b h l f', h=self.n_heads) # (B, L, F) -> (B, H, L, F/H)\n",
        "\n",
        "        scores = q @ k.transpose(-2,-1) / math.sqrt(k.size(-1)) # B, H, L, L\n",
        "        att = F.softmax(scores, dim=-1)\n",
        "\n",
        "        self.att_maps.append(att) #just for visualization\n",
        "\n",
        "        y = att @ v # B, H, L, F/H\n",
        "\n",
        "        y = rearrange(y, 'b h l f -> b l (h f)')\n",
        "\n",
        "\n",
        "        y = self.proj(y) # batch, length, feature\n",
        "\n",
        "        return y\n",
        "\n",
        "\n",
        "class MultiLayerPerceptron(nn.Module):\n",
        "    def __init__(self, n_embd, hidden_dim):\n",
        "        super().__init__()\n",
        "\n",
        "        self.MLP = nn.Sequential(\n",
        "            nn.Linear(n_embd, hidden_dim),\n",
        "            nn.GELU(),\n",
        "            nn.Linear(hidden_dim, n_embd)\n",
        "        )\n",
        "\n",
        "    def forward(self,x):\n",
        "        x = self.MLP(x)\n",
        "        return x\n",
        "\n",
        "\n",
        "class TransformerEncoder(nn.Module):\n",
        "    def __init__(self, n_embd, n_heads):\n",
        "        super().__init__()\n",
        "\n",
        "        self.att = MultiHeadAttention(n_embd, n_heads)\n",
        "        self.ln1 = torch.nn.LayerNorm(n_embd)\n",
        "        self.ln2 = torch.nn.LayerNorm(n_embd)\n",
        "        self.mlp = MultiLayerPerceptron(n_embd, n_embd)\n",
        "\n",
        "    def forward(self, x):\n",
        "\n",
        "        x1 = self.ln1(x) #layer normalization\n",
        "        x1 = self.att(x1) # multihead attention\n",
        "\n",
        "        x = x + x1 # residual connection\n",
        "\n",
        "        x2 = self.ln2(x) #layer normalization\n",
        "        x2 = self.mlp(x2) # multilayer perceptron\n",
        "\n",
        "        y = x + x2 # residual connection\n",
        "\n",
        "        return y\n",
        "\n",
        "\n",
        "class ViT(nn.Module):\n",
        "\n",
        "    def __init__(self,img_dim , patch__dim=7, embed_dim=100, num_classes=10, n_heads=8, depth=2):\n",
        "        super().__init__()\n",
        "\n",
        "\n",
        "        self.patch_embed = PatchEmbedding(patch__dim, 1, embed_dim)\n",
        "        self.cls_token = nn.Parameter( torch.randn(1, 1, embed_dim))\n",
        "\n",
        "        n_patches = (img_dim // patch__dim) ** 2\n",
        "        self.pos_embedding = nn.Parameter( torch.randn(1, n_patches+1, embed_dim))\n",
        "\n",
        "        self.transformer = nn.Sequential(*[TransformerEncoder(embed_dim, n_heads) for _ in range(depth)])\n",
        "        self.MLP_head = nn.Linear(embed_dim, num_classes)\n",
        "\n",
        "    def forward(self, x):\n",
        "\n",
        "        e = self.patch_embed(x) # (B, L, F)\n",
        "\n",
        "        #cls token addition\n",
        "        cls = repeat(self.cls_token, '1 1 f -> b 1 f', b=e.shape[0])\n",
        "        e = torch.cat([cls, e], dim=1) + self.pos_embedding # (B, L+1, F)\n",
        "\n",
        "        e += self.pos_embedding\n",
        "\n",
        "        z = self.transformer(e) # (B, L+1, F)\n",
        "\n",
        "        cls_token = z[:, 0, :]  # (B, F)\n",
        "\n",
        "        y = self.MLP_head(cls_token) # (B, num_classes)\n",
        "\n",
        "        return y\n",
        "\n",
        "device = torch.device('cuda' if torch.cuda.is_available() else 'cpu')\n",
        "\n",
        "model = ViT(img_dim=28,\n",
        "            patch__dim=7,\n",
        "            embed_dim=28,\n",
        "            num_classes=10,\n",
        "            n_heads=3,\n",
        "            depth=2).to(device)\n",
        "\n",
        "criterion = torch.nn.CrossEntropyLoss().to(device)\n",
        "optimizer = torch.optim.Adam(model.parameters(), lr=0.003)\n",
        "\n",
        "for epoch in range(5):\n",
        "\n",
        "    for i, (images, labels) in enumerate(train_loader):\n",
        "\n",
        "        images = images.to(device)\n",
        "        labels = labels.to(device)\n",
        "\n",
        "        optimizer.zero_grad()\n",
        "        outputs = model(images)\n",
        "        loss = criterion(outputs, labels)\n",
        "        loss.backward()\n",
        "        optimizer.step()\n",
        "\n",
        "        if i % 100 == 0:\n",
        "            print(\"Epoch: %d, Batch: %d, Loss: %f\" % (epoch, i, loss.item()))\n",
        "\n",
        "\n",
        "    correct = 0\n",
        "    total = 0\n",
        "\n",
        "    for images, labels in test_loader:\n",
        "\n",
        "        images = images.to(device)\n",
        "        labels = labels.to(device)\n",
        "\n",
        "        outputs = model(images)\n",
        "        _, predicted = torch.max(outputs.data, 1)\n",
        "        total += labels.size(0)\n",
        "        correct += (predicted == labels).sum()\n",
        "\n",
        "    print(\"Epoch: %d, Accuracy: %f\" % (epoch, 100 * correct / total))\n",
        "\n"
      ]
    },
    {
      "cell_type": "code",
      "source": [
        "import numpy as np\n",
        "\n",
        "for layer in model.transformer:\n",
        "    layer.att.att_maps.clear()\n",
        "\n",
        "img_sample_test = test_dataset[0][0].unsqueeze(0).to(device)\n",
        "\n",
        "output = model(img_sample_test)\n",
        "\n",
        "result = torch.eye(17).to(device)\n",
        "for layer in model.transformer:\n",
        "    att = layer.att.att_maps\n",
        "\n",
        "    attention_heads_fused = att[0].max(axis=1)[0]\n",
        "\n",
        "    flat = attention_heads_fused.view(attention_heads_fused.size(0), -1)\n",
        "    _, indices = flat.topk(int(flat.size(-1)*0.9), -1, False)\n",
        "    indices = indices[indices != 0]\n",
        "    flat[0, indices] = 0\n",
        "\n",
        "    I = torch.eye(attention_heads_fused.size(-1)).to(device)\n",
        "    a = (attention_heads_fused + 1.0*I)/2\n",
        "    a = a / a.sum(dim=-1)\n",
        "\n",
        "    result = torch.matmul(a, result)\n",
        "\n",
        "mask = result[0,0,1:]\n",
        "mask= mask.reshape(4,4).detach().cpu().numpy()\n",
        "\n",
        "mask = mask / np.max(mask)"
      ],
      "metadata": {
        "id": "fxiuGC_PU8e4"
      },
      "execution_count": 84,
      "outputs": []
    },
    {
      "cell_type": "code",
      "source": [
        "import cv2\n",
        "def show_mask_on_image(img, mask):\n",
        "    img = np.float32(img)\n",
        "    heatmap = cv2.applyColorMap(np.uint8(255 * mask), cv2.COLORMAP_JET)\n",
        "    heatmap = np.float32(heatmap) / 255\n",
        "    cam = heatmap + np.float32(img)\n",
        "    cam = cam / np.max(cam)\n",
        "    return np.uint8(255 * cam)"
      ],
      "metadata": {
        "id": "t5ECvUvPhYYZ"
      },
      "execution_count": 85,
      "outputs": []
    },
    {
      "cell_type": "code",
      "source": [
        "from google.colab.patches import cv2_imshow\n",
        "import matplotlib.pyplot as plt\n",
        "\n",
        "np_img = img_sample_test.squeeze().cpu().unsqueeze(-1).numpy()\n",
        "mask = cv2.resize(mask, (28,28))\n",
        "mask = show_mask_on_image(np_img, mask)\n",
        "\n",
        "plt.imshow(mask)\n",
        "plt.colorbar()"
      ],
      "metadata": {
        "colab": {
          "base_uri": "https://localhost:8080/",
          "height": 448
        },
        "id": "A2iqUE0phbmf",
        "outputId": "51f7ba44-d58c-44d5-f8dc-3c3a140a1ea2"
      },
      "execution_count": 86,
      "outputs": [
        {
          "output_type": "execute_result",
          "data": {
            "text/plain": [
              "<matplotlib.colorbar.Colorbar at 0x7f185025e1d0>"
            ]
          },
          "metadata": {},
          "execution_count": 86
        },
        {
          "output_type": "display_data",
          "data": {
            "text/plain": [
              "<Figure size 640x480 with 2 Axes>"
            ],
            "image/png": "[encoded data removed]"
          },
          "metadata": {}
        }
      ]
    },
    {
      "cell_type": "code",
      "source": [
        "import matplotlib.pyplot as plt\n",
        "import torch.nn.functional as F\n",
        "\n",
        "pos = model.pos_embedding[:,1:,:].squeeze()\n",
        "#pos = rearrange(pos, \"(h w) (p1 p2) ->  (h p1) (w p2)\", p1=7, p2=7, h=4, w=4)\n",
        "\n",
        "F.cosine_similarity( pos[0:2,:].detach() , pos[0:2,:].detach() )\n",
        "\n",
        "fig = plt.figure(figsize=(8, 8))\n",
        "fig.suptitle(\"Visualization of position embedding similarities\", fontsize=24)\n",
        "for i in range(0, pos.shape[0]):\n",
        "\n",
        "    sim = F.cosine_similarity(pos[i:i+1], pos, dim=1)\n",
        "    sim = sim.reshape((4, 4)).detach().cpu().numpy()\n",
        "\n",
        "    ax = fig.add_subplot(4, 4, i+1)\n",
        "    ax.axes.get_xaxis().set_visible(False)\n",
        "    ax.axes.get_yaxis().set_visible(False)\n",
        "    ax.imshow(sim)"
      ],
      "metadata": {
        "colab": {
          "base_uri": "https://localhost:8080/",
          "height": 732
        },
        "id": "G2J8DfqqwHo_",
        "outputId": "d534f300-3ca0-4a31-bf54-cfa83a80625f"
      },
      "execution_count": 4,
      "outputs": [
        {
          "output_type": "display_data",
          "data": {
            "text/plain": [
              "<Figure size 800x800 with 16 Axes>"
            ],
            "image/png": "[encoded data removed]"
          },
          "metadata": {}
        }
      ]
    },
    {
      "cell_type": "code",
      "source": [],
      "metadata": {
        "id": "cEuA4tC40j-I"
      },
      "execution_count": null,
      "outputs": []
    }
  ]
}